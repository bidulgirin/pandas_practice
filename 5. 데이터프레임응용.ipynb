{
 "cells": [
  {
   "cell_type": "markdown",
   "id": "ef2c64f0-8cce-4cfd-be83-a54456b576d2",
   "metadata": {},
   "source": [
    "# 함수 매핑\n",
    "\n",
    "- 시리즈 또는 데이터프레임의 개별 원소를 특정 함수에 일대일 대응시키는 과정\n",
    "- 사용자가 직접 만든 함수를 적용할 수 있기 때문에 파아스 기본 함수로 처리하기 어려운 복잡한 연산을 적용하는 것이 가능"
   ]
  },
  {
   "cell_type": "markdown",
   "id": "50403264-7e60-4ca9-85c9-c44b21bafd52",
   "metadata": {},
   "source": [
    "## 개별 원소에 함수 매핑"
   ]
  },
  {
   "cell_type": "markdown",
   "id": "777959fc-a6d7-4b25-a413-3978091e0452",
   "metadata": {},
   "source": [
    "### 시리즈 원소에 함수 매핑\n",
    "- 시리즈에 map() 을 적용하면 이자로 전달받는 매핑 함수에 시리즈이 모든 원소를 하나씩 입력하고 리턴값을 받음\n",
    "- 시리즈 원소의 개수만큼 리턴값을 받아서 같은 크기의 시리즈 객체로 변환"
   ]
  },
  {
   "cell_type": "code",
   "execution_count": 1,
   "id": "0e459ec2-4cb9-4775-80cd-2c52aaef5f86",
   "metadata": {},
   "outputs": [],
   "source": [
    "import pandas as pd\n",
    "import seaborn as sns"
   ]
  },
  {
   "cell_type": "code",
   "execution_count": 2,
   "id": "aa471eba-9ed3-47df-a1f0-63dcf9da2b2c",
   "metadata": {},
   "outputs": [],
   "source": [
    "titanic = sns.load_dataset(\"titanic\")"
   ]
  },
  {
   "cell_type": "code",
   "execution_count": 3,
   "id": "51bf0728-c884-42b2-b433-f3687bb90412",
   "metadata": {},
   "outputs": [],
   "source": [
    "df = titanic.loc[:, [\"age\",\"fare\"]]"
   ]
  },
  {
   "cell_type": "code",
   "execution_count": 4,
   "id": "ef10df83-5ca5-43f6-982c-f18fd0e10440",
   "metadata": {},
   "outputs": [
    {
     "data": {
      "text/html": [
       "<div>\n",
       "<style scoped>\n",
       "    .dataframe tbody tr th:only-of-type {\n",
       "        vertical-align: middle;\n",
       "    }\n",
       "\n",
       "    .dataframe tbody tr th {\n",
       "        vertical-align: top;\n",
       "    }\n",
       "\n",
       "    .dataframe thead th {\n",
       "        text-align: right;\n",
       "    }\n",
       "</style>\n",
       "<table border=\"1\" class=\"dataframe\">\n",
       "  <thead>\n",
       "    <tr style=\"text-align: right;\">\n",
       "      <th></th>\n",
       "      <th>age</th>\n",
       "      <th>fare</th>\n",
       "    </tr>\n",
       "  </thead>\n",
       "  <tbody>\n",
       "    <tr>\n",
       "      <th>0</th>\n",
       "      <td>22.0</td>\n",
       "      <td>7.2500</td>\n",
       "    </tr>\n",
       "    <tr>\n",
       "      <th>1</th>\n",
       "      <td>38.0</td>\n",
       "      <td>71.2833</td>\n",
       "    </tr>\n",
       "    <tr>\n",
       "      <th>2</th>\n",
       "      <td>26.0</td>\n",
       "      <td>7.9250</td>\n",
       "    </tr>\n",
       "    <tr>\n",
       "      <th>3</th>\n",
       "      <td>35.0</td>\n",
       "      <td>53.1000</td>\n",
       "    </tr>\n",
       "    <tr>\n",
       "      <th>4</th>\n",
       "      <td>35.0</td>\n",
       "      <td>8.0500</td>\n",
       "    </tr>\n",
       "  </tbody>\n",
       "</table>\n",
       "</div>"
      ],
      "text/plain": [
       "    age     fare\n",
       "0  22.0   7.2500\n",
       "1  38.0  71.2833\n",
       "2  26.0   7.9250\n",
       "3  35.0  53.1000\n",
       "4  35.0   8.0500"
      ]
     },
     "execution_count": 4,
     "metadata": {},
     "output_type": "execute_result"
    }
   ],
   "source": [
    "df.head()"
   ]
  },
  {
   "cell_type": "code",
   "execution_count": 5,
   "id": "d65ed597-59b2-4382-a6cf-0cd0cbf0902b",
   "metadata": {},
   "outputs": [],
   "source": [
    "def add_10(n): # 10을 더하는 함수\n",
    "    return n + 10"
   ]
  },
  {
   "cell_type": "code",
   "execution_count": 6,
   "id": "c8584c23-d87b-4b81-a2b9-fa3ece44328b",
   "metadata": {},
   "outputs": [
    {
     "data": {
      "text/plain": [
       "0      32.0\n",
       "1      48.0\n",
       "2      36.0\n",
       "3      45.0\n",
       "4      45.0\n",
       "       ... \n",
       "886    37.0\n",
       "887    29.0\n",
       "888     NaN\n",
       "889    36.0\n",
       "890    42.0\n",
       "Name: age, Length: 891, dtype: float64"
      ]
     },
     "execution_count": 6,
     "metadata": {},
     "output_type": "execute_result"
    }
   ],
   "source": [
    "df[\"age\"].map(add_10)"
   ]
  },
  {
   "cell_type": "code",
   "execution_count": 7,
   "id": "17ba5ceb-07e7-49d6-92ad-fe857fff160b",
   "metadata": {},
   "outputs": [],
   "source": [
    "# 한번사용하고 말 함수를 선언하는것은 매우 비효율적\n",
    "# 그래서 익명함수를 쓴다"
   ]
  },
  {
   "cell_type": "code",
   "execution_count": 8,
   "id": "0d4db4f7-d8e8-4eb4-be78-f232bd1fc9ae",
   "metadata": {},
   "outputs": [],
   "source": [
    "# lambda expression 람다 표현식"
   ]
  },
  {
   "cell_type": "code",
   "execution_count": 10,
   "id": "f2f8219d-733d-49f4-bd79-e754d7bd7a17",
   "metadata": {},
   "outputs": [
    {
     "data": {
      "text/plain": [
       "0      32.0\n",
       "1      48.0\n",
       "2      36.0\n",
       "3      45.0\n",
       "4      45.0\n",
       "       ... \n",
       "886    37.0\n",
       "887    29.0\n",
       "888     NaN\n",
       "889    36.0\n",
       "890    42.0\n",
       "Name: age, Length: 891, dtype: float64"
      ]
     },
     "execution_count": 10,
     "metadata": {},
     "output_type": "execute_result"
    }
   ],
   "source": [
    "df[\"age\"].map(lambda x : x + 10)"
   ]
  },
  {
   "cell_type": "code",
   "execution_count": 11,
   "id": "a853ecaf-80a8-4a27-b815-7e454d0b60f1",
   "metadata": {},
   "outputs": [],
   "source": [
    "# 학계분을 싫어한다 => 구현해본적없음! "
   ]
  },
  {
   "cell_type": "code",
   "execution_count": 12,
   "id": "351f05dd-7740-49e2-8d63-0ca2648bc2cc",
   "metadata": {},
   "outputs": [],
   "source": [
    "# 온몸 비틀기는 덕목이다!\n",
    "# 파이썬 기초를 알면 다 할 수 있다!\n",
    "# 파이썬의 기초를 탄탄하게!"
   ]
  },
  {
   "cell_type": "markdown",
   "id": "025cd58c-7efc-428a-9d31-0977eeb9dc19",
   "metadata": {},
   "source": [
    "### 데이터프레임 원소에 함수 매핑"
   ]
  },
  {
   "cell_type": "code",
   "execution_count": 13,
   "id": "7047399a-9efc-4a5e-ae59-1c95e02fa186",
   "metadata": {},
   "outputs": [
    {
     "data": {
      "text/html": [
       "<div>\n",
       "<style scoped>\n",
       "    .dataframe tbody tr th:only-of-type {\n",
       "        vertical-align: middle;\n",
       "    }\n",
       "\n",
       "    .dataframe tbody tr th {\n",
       "        vertical-align: top;\n",
       "    }\n",
       "\n",
       "    .dataframe thead th {\n",
       "        text-align: right;\n",
       "    }\n",
       "</style>\n",
       "<table border=\"1\" class=\"dataframe\">\n",
       "  <thead>\n",
       "    <tr style=\"text-align: right;\">\n",
       "      <th></th>\n",
       "      <th>age</th>\n",
       "      <th>fare</th>\n",
       "    </tr>\n",
       "  </thead>\n",
       "  <tbody>\n",
       "    <tr>\n",
       "      <th>0</th>\n",
       "      <td>22.0</td>\n",
       "      <td>7.2500</td>\n",
       "    </tr>\n",
       "    <tr>\n",
       "      <th>1</th>\n",
       "      <td>38.0</td>\n",
       "      <td>71.2833</td>\n",
       "    </tr>\n",
       "    <tr>\n",
       "      <th>2</th>\n",
       "      <td>26.0</td>\n",
       "      <td>7.9250</td>\n",
       "    </tr>\n",
       "    <tr>\n",
       "      <th>3</th>\n",
       "      <td>35.0</td>\n",
       "      <td>53.1000</td>\n",
       "    </tr>\n",
       "    <tr>\n",
       "      <th>4</th>\n",
       "      <td>35.0</td>\n",
       "      <td>8.0500</td>\n",
       "    </tr>\n",
       "  </tbody>\n",
       "</table>\n",
       "</div>"
      ],
      "text/plain": [
       "    age     fare\n",
       "0  22.0   7.2500\n",
       "1  38.0  71.2833\n",
       "2  26.0   7.9250\n",
       "3  35.0  53.1000\n",
       "4  35.0   8.0500"
      ]
     },
     "execution_count": 13,
     "metadata": {},
     "output_type": "execute_result"
    }
   ],
   "source": [
    "df.head()"
   ]
  },
  {
   "cell_type": "code",
   "execution_count": 14,
   "id": "f5a15794-e39a-4fc5-8230-198102d669b2",
   "metadata": {},
   "outputs": [
    {
     "data": {
      "text/html": [
       "<div>\n",
       "<style scoped>\n",
       "    .dataframe tbody tr th:only-of-type {\n",
       "        vertical-align: middle;\n",
       "    }\n",
       "\n",
       "    .dataframe tbody tr th {\n",
       "        vertical-align: top;\n",
       "    }\n",
       "\n",
       "    .dataframe thead th {\n",
       "        text-align: right;\n",
       "    }\n",
       "</style>\n",
       "<table border=\"1\" class=\"dataframe\">\n",
       "  <thead>\n",
       "    <tr style=\"text-align: right;\">\n",
       "      <th></th>\n",
       "      <th>age</th>\n",
       "      <th>fare</th>\n",
       "    </tr>\n",
       "  </thead>\n",
       "  <tbody>\n",
       "    <tr>\n",
       "      <th>0</th>\n",
       "      <td>32.0</td>\n",
       "      <td>17.2500</td>\n",
       "    </tr>\n",
       "    <tr>\n",
       "      <th>1</th>\n",
       "      <td>48.0</td>\n",
       "      <td>81.2833</td>\n",
       "    </tr>\n",
       "    <tr>\n",
       "      <th>2</th>\n",
       "      <td>36.0</td>\n",
       "      <td>17.9250</td>\n",
       "    </tr>\n",
       "    <tr>\n",
       "      <th>3</th>\n",
       "      <td>45.0</td>\n",
       "      <td>63.1000</td>\n",
       "    </tr>\n",
       "    <tr>\n",
       "      <th>4</th>\n",
       "      <td>45.0</td>\n",
       "      <td>18.0500</td>\n",
       "    </tr>\n",
       "    <tr>\n",
       "      <th>...</th>\n",
       "      <td>...</td>\n",
       "      <td>...</td>\n",
       "    </tr>\n",
       "    <tr>\n",
       "      <th>886</th>\n",
       "      <td>37.0</td>\n",
       "      <td>23.0000</td>\n",
       "    </tr>\n",
       "    <tr>\n",
       "      <th>887</th>\n",
       "      <td>29.0</td>\n",
       "      <td>40.0000</td>\n",
       "    </tr>\n",
       "    <tr>\n",
       "      <th>888</th>\n",
       "      <td>NaN</td>\n",
       "      <td>33.4500</td>\n",
       "    </tr>\n",
       "    <tr>\n",
       "      <th>889</th>\n",
       "      <td>36.0</td>\n",
       "      <td>40.0000</td>\n",
       "    </tr>\n",
       "    <tr>\n",
       "      <th>890</th>\n",
       "      <td>42.0</td>\n",
       "      <td>17.7500</td>\n",
       "    </tr>\n",
       "  </tbody>\n",
       "</table>\n",
       "<p>891 rows × 2 columns</p>\n",
       "</div>"
      ],
      "text/plain": [
       "      age     fare\n",
       "0    32.0  17.2500\n",
       "1    48.0  81.2833\n",
       "2    36.0  17.9250\n",
       "3    45.0  63.1000\n",
       "4    45.0  18.0500\n",
       "..    ...      ...\n",
       "886  37.0  23.0000\n",
       "887  29.0  40.0000\n",
       "888   NaN  33.4500\n",
       "889  36.0  40.0000\n",
       "890  42.0  17.7500\n",
       "\n",
       "[891 rows x 2 columns]"
      ]
     },
     "execution_count": 14,
     "metadata": {},
     "output_type": "execute_result"
    }
   ],
   "source": [
    "df.map(lambda x : x + 10)"
   ]
  },
  {
   "cell_type": "code",
   "execution_count": null,
   "id": "fff404dc-ed9c-410e-a7b6-133e88512641",
   "metadata": {},
   "outputs": [],
   "source": [
    "# 하나하나의 원소에 mapping 하는 것은 쉽다!\n",
    "# 객체에 매핑하려면???"
   ]
  },
  {
   "cell_type": "markdown",
   "id": "d8b918ce-38bf-467a-806b-299d15db7b35",
   "metadata": {},
   "source": [
    "## 데이터프레임 객체에 함수 매핑"
   ]
  },
  {
   "cell_type": "code",
   "execution_count": 16,
   "id": "a7a70e77-a907-4bf4-b1c6-0770c1b7f506",
   "metadata": {},
   "outputs": [
    {
     "data": {
      "text/plain": [
       "0       29.2500\n",
       "1      109.2833\n",
       "2       33.9250\n",
       "3       88.1000\n",
       "4       43.0500\n",
       "         ...   \n",
       "886     40.0000\n",
       "887     49.0000\n",
       "888         NaN\n",
       "889     56.0000\n",
       "890     39.7500\n",
       "Length: 891, dtype: float64"
      ]
     },
     "execution_count": 16,
     "metadata": {},
     "output_type": "execute_result"
    }
   ],
   "source": [
    "df.apply(lambda x: x[\"age\"] + x[\"fare\"], axis=1) "
   ]
  },
  {
   "cell_type": "code",
   "execution_count": null,
   "id": "cdc76ee4-79db-40f3-b6b2-d7b54292b44e",
   "metadata": {},
   "outputs": [],
   "source": []
  }
 ],
 "metadata": {
  "kernelspec": {
   "display_name": "Python 3 (ipykernel)",
   "language": "python",
   "name": "python3"
  },
  "language_info": {
   "codemirror_mode": {
    "name": "ipython",
    "version": 3
   },
   "file_extension": ".py",
   "mimetype": "text/x-python",
   "name": "python",
   "nbconvert_exporter": "python",
   "pygments_lexer": "ipython3",
   "version": "3.13.5"
  }
 },
 "nbformat": 4,
 "nbformat_minor": 5
}
