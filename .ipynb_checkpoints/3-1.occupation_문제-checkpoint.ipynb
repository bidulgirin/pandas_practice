{
 "cells": [
  {
   "cell_type": "code",
   "execution_count": 1,
   "id": "88f96db0",
   "metadata": {},
   "outputs": [],
   "source": [
    "import pandas as pd"
   ]
  },
  {
   "cell_type": "markdown",
   "id": "975860a9",
   "metadata": {},
   "source": [
    "# 문제1. user_id를 인덱스로 사용한 데이터프레임 읽기\n",
    "\n",
    "- occupation.tsv"
   ]
  },
  {
   "cell_type": "code",
   "execution_count": null,
   "id": "1d9ee19d",
   "metadata": {},
   "outputs": [],
   "source": []
  },
  {
   "cell_type": "markdown",
   "id": "8e7d21f3",
   "metadata": {},
   "source": [
    "# 문제2. 상위 25개 행 확인"
   ]
  },
  {
   "cell_type": "code",
   "execution_count": null,
   "id": "6d1c490e",
   "metadata": {},
   "outputs": [],
   "source": []
  },
  {
   "cell_type": "markdown",
   "id": "5537abbe",
   "metadata": {},
   "source": [
    "# 문제3. 하위 10개 행 확인"
   ]
  },
  {
   "cell_type": "code",
   "execution_count": null,
   "id": "6aefaeb2",
   "metadata": {},
   "outputs": [],
   "source": []
  },
  {
   "cell_type": "markdown",
   "id": "28e1cb84",
   "metadata": {},
   "source": [
    "# 문제4. 데이터의 행 수 확인"
   ]
  },
  {
   "cell_type": "code",
   "execution_count": null,
   "id": "cd3f7e16",
   "metadata": {},
   "outputs": [],
   "source": []
  },
  {
   "cell_type": "markdown",
   "id": "d5c26ed9",
   "metadata": {},
   "source": [
    "# 문제5. 컬럼 수 확인"
   ]
  },
  {
   "cell_type": "code",
   "execution_count": null,
   "id": "63265c1d",
   "metadata": {},
   "outputs": [],
   "source": []
  },
  {
   "cell_type": "markdown",
   "id": "1e1c13c6",
   "metadata": {},
   "source": [
    "# 문제6. 컬럼명 확인"
   ]
  },
  {
   "cell_type": "code",
   "execution_count": null,
   "id": "5b3f0576",
   "metadata": {},
   "outputs": [],
   "source": []
  },
  {
   "cell_type": "markdown",
   "id": "96090de4",
   "metadata": {},
   "source": [
    "# 문제7. 데이터 인덱스 확인"
   ]
  },
  {
   "cell_type": "code",
   "execution_count": null,
   "id": "01abe9d8",
   "metadata": {},
   "outputs": [],
   "source": []
  },
  {
   "cell_type": "markdown",
   "id": "e7a34376",
   "metadata": {},
   "source": [
    "# 문제8. 각 컬럼의 자료형 확인"
   ]
  },
  {
   "cell_type": "code",
   "execution_count": null,
   "id": "befbff7f",
   "metadata": {},
   "outputs": [],
   "source": []
  },
  {
   "cell_type": "markdown",
   "id": "a386eee1",
   "metadata": {},
   "source": [
    "# 문제9. occupation 컬럼 추출"
   ]
  },
  {
   "cell_type": "code",
   "execution_count": null,
   "id": "879632e3",
   "metadata": {},
   "outputs": [],
   "source": []
  },
  {
   "cell_type": "markdown",
   "id": "eec2927f",
   "metadata": {},
   "source": [
    "# 문제10. occupation 컬럼의 고유값 수 확인"
   ]
  },
  {
   "cell_type": "code",
   "execution_count": null,
   "id": "649483b1",
   "metadata": {},
   "outputs": [],
   "source": []
  },
  {
   "cell_type": "markdown",
   "id": "7bec09b5",
   "metadata": {},
   "source": [
    "# 문제11. occupation 컬럼의 최빈값 확인"
   ]
  },
  {
   "cell_type": "code",
   "execution_count": null,
   "id": "c2a473bb",
   "metadata": {},
   "outputs": [],
   "source": []
  },
  {
   "cell_type": "markdown",
   "id": "709dbede",
   "metadata": {},
   "source": [
    "# 문제12. 수치형 컬럼의 기술 통계 확인"
   ]
  },
  {
   "cell_type": "code",
   "execution_count": null,
   "id": "1504c0d8",
   "metadata": {},
   "outputs": [],
   "source": []
  },
  {
   "cell_type": "markdown",
   "id": "ac1c3743",
   "metadata": {},
   "source": [
    "# 문제13. 모든 컬럼의 기술 통계 확인"
   ]
  },
  {
   "cell_type": "code",
   "execution_count": null,
   "id": "5ebf9639",
   "metadata": {},
   "outputs": [],
   "source": []
  },
  {
   "cell_type": "markdown",
   "id": "1cd04668",
   "metadata": {},
   "source": [
    "# 문제14. occupation 컬럼의 기술 통계 확인"
   ]
  },
  {
   "cell_type": "code",
   "execution_count": null,
   "id": "d2e2e87e",
   "metadata": {},
   "outputs": [],
   "source": []
  },
  {
   "cell_type": "markdown",
   "id": "a06a56dc",
   "metadata": {},
   "source": [
    "# 문제15. age컬럼의 평균 구하기\n",
    "\n",
    "- 단, 소수점 이하는 반올림"
   ]
  },
  {
   "cell_type": "code",
   "execution_count": null,
   "id": "f4a0f790",
   "metadata": {},
   "outputs": [],
   "source": []
  },
  {
   "cell_type": "markdown",
   "id": "55247e33",
   "metadata": {},
   "source": [
    "# 문제16. age컬럼에서 빈도가 가장 낮은 고유값 5개 확인"
   ]
  },
  {
   "cell_type": "code",
   "execution_count": null,
   "id": "6856761a",
   "metadata": {},
   "outputs": [],
   "source": []
  }
 ],
 "metadata": {
  "kernelspec": {
   "display_name": "Python 3 (ipykernel)",
   "language": "python",
   "name": "python3"
  },
  "language_info": {
   "codemirror_mode": {
    "name": "ipython",
    "version": 3
   },
   "file_extension": ".py",
   "mimetype": "text/x-python",
   "name": "python",
   "nbconvert_exporter": "python",
   "pygments_lexer": "ipython3",
   "version": "3.9.7"
  }
 },
 "nbformat": 4,
 "nbformat_minor": 5
}
