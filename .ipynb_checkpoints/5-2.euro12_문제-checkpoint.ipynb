{
 "cells": [
  {
   "cell_type": "code",
   "execution_count": 1,
   "id": "afa1aac9",
   "metadata": {},
   "outputs": [],
   "source": [
    "import pandas as pd"
   ]
  },
  {
   "cell_type": "markdown",
   "id": "2d76640a",
   "metadata": {},
   "source": [
    "# 문제1. Euro_2012_stats_TEAM.csv 데이터 읽어오기"
   ]
  },
  {
   "cell_type": "code",
   "execution_count": null,
   "id": "55506670",
   "metadata": {},
   "outputs": [],
   "source": []
  },
  {
   "cell_type": "markdown",
   "id": "0e14e5e9",
   "metadata": {},
   "source": [
    "# 문제2. Goals 컬럼 추출"
   ]
  },
  {
   "cell_type": "code",
   "execution_count": null,
   "id": "c545dc29",
   "metadata": {},
   "outputs": [],
   "source": []
  },
  {
   "cell_type": "markdown",
   "id": "536cbec1",
   "metadata": {},
   "source": [
    "# 문제3. 참가팀 수 확인하기"
   ]
  },
  {
   "cell_type": "code",
   "execution_count": null,
   "id": "cd2320ea",
   "metadata": {},
   "outputs": [],
   "source": []
  },
  {
   "cell_type": "markdown",
   "id": "de4d96b9",
   "metadata": {},
   "source": [
    "# 문제4. 컬럼 수 확인"
   ]
  },
  {
   "cell_type": "code",
   "execution_count": null,
   "id": "71f84232",
   "metadata": {},
   "outputs": [],
   "source": []
  },
  {
   "cell_type": "markdown",
   "id": "bae389e8",
   "metadata": {},
   "source": [
    "# 문제5. Team, Red Cards, Yellow Cards 열을 추출해 discipline 변수에 저장"
   ]
  },
  {
   "cell_type": "code",
   "execution_count": null,
   "id": "c493b6fb",
   "metadata": {},
   "outputs": [],
   "source": []
  },
  {
   "cell_type": "markdown",
   "id": "6769b1f2",
   "metadata": {},
   "source": [
    "# 문제6. Red Cards와 Yellow Cards의 내림차순으로 정렬한 결과를 출력"
   ]
  },
  {
   "cell_type": "code",
   "execution_count": null,
   "id": "6e4f287c",
   "metadata": {},
   "outputs": [],
   "source": []
  },
  {
   "cell_type": "markdown",
   "id": "06fc714d",
   "metadata": {},
   "source": [
    "# 문제7. Yellow Cards 열의 평균 구하기\n",
    "\n",
    "- 단, 소수점이하는 반올림"
   ]
  },
  {
   "cell_type": "code",
   "execution_count": null,
   "id": "2db48e7c",
   "metadata": {},
   "outputs": [],
   "source": []
  },
  {
   "cell_type": "markdown",
   "id": "4b45ee9a",
   "metadata": {},
   "source": [
    "# 문제8. Goals가 6 초과인 팀을 필터링"
   ]
  },
  {
   "cell_type": "code",
   "execution_count": null,
   "id": "78653d7d",
   "metadata": {},
   "outputs": [],
   "source": []
  },
  {
   "cell_type": "markdown",
   "id": "46879133",
   "metadata": {},
   "source": [
    "# 문제9. 팀이름이 G로 시작하는 팀 필터링"
   ]
  },
  {
   "cell_type": "code",
   "execution_count": null,
   "id": "5a75ceca",
   "metadata": {},
   "outputs": [],
   "source": []
  },
  {
   "cell_type": "markdown",
   "id": "b69e22c9",
   "metadata": {},
   "source": [
    "# 문제10. 일곱번째 컬럼까지 추출"
   ]
  },
  {
   "cell_type": "code",
   "execution_count": null,
   "id": "1124a78b",
   "metadata": {},
   "outputs": [],
   "source": []
  },
  {
   "cell_type": "markdown",
   "id": "cad406bd",
   "metadata": {},
   "source": [
    "# 문제11. 오른쪽 끝 3개 열을 제외하고 추출"
   ]
  },
  {
   "cell_type": "code",
   "execution_count": null,
   "id": "7bee62d1",
   "metadata": {},
   "outputs": [],
   "source": []
  },
  {
   "cell_type": "markdown",
   "id": "2dd3f388",
   "metadata": {},
   "source": [
    "# 문제12. England, Italy, Russia팀의 Team, Shooting Accuracy 열을 추출"
   ]
  },
  {
   "cell_type": "code",
   "execution_count": null,
   "id": "cc6cd9a0",
   "metadata": {},
   "outputs": [],
   "source": []
  }
 ],
 "metadata": {
  "kernelspec": {
   "display_name": "Python 3 (ipykernel)",
   "language": "python",
   "name": "python3"
  },
  "language_info": {
   "codemirror_mode": {
    "name": "ipython",
    "version": 3
   },
   "file_extension": ".py",
   "mimetype": "text/x-python",
   "name": "python",
   "nbconvert_exporter": "python",
   "pygments_lexer": "ipython3",
   "version": "3.9.7"
  }
 },
 "nbformat": 4,
 "nbformat_minor": 5
}
