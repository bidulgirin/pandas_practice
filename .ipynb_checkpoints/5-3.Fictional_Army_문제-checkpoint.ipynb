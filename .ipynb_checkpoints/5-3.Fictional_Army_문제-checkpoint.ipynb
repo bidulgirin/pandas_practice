{
 "cells": [
  {
   "cell_type": "code",
   "execution_count": 1,
   "id": "c3b12409",
   "metadata": {},
   "outputs": [],
   "source": [
    "import pandas as pd"
   ]
  },
  {
   "cell_type": "markdown",
   "id": "b31913c5",
   "metadata": {},
   "source": [
    "# 문제1. 아래의 raw_data를 데이터프레임으로 변환하기"
   ]
  },
  {
   "cell_type": "code",
   "execution_count": 2,
   "id": "656d5739",
   "metadata": {},
   "outputs": [],
   "source": [
    "raw_data = {'regiment': ['Nighthawks', 'Nighthawks', 'Nighthawks', 'Nighthawks', 'Dragoons', 'Dragoons', 'Dragoons', 'Dragoons', 'Scouts', 'Scouts', 'Scouts', 'Scouts'],\n",
    "            'company': ['1st', '1st', '2nd', '2nd', '1st', '1st', '2nd', '2nd','1st', '1st', '2nd', '2nd'],\n",
    "            'deaths': [523, 52, 25, 616, 43, 234, 523, 62, 62, 73, 37, 35],\n",
    "            'battles': [5, 42, 2, 2, 4, 7, 8, 3, 4, 7, 8, 9],\n",
    "            'size': [1045, 957, 1099, 1400, 1592, 1006, 987, 849, 973, 1005, 1099, 1523],\n",
    "            'veterans': [1, 5, 62, 26, 73, 37, 949, 48, 48, 435, 63, 345],\n",
    "            'readiness': [1, 2, 3, 3, 2, 1, 2, 3, 2, 1, 2, 3],\n",
    "            'armored': [1, 0, 1, 1, 0, 1, 0, 1, 0, 0, 1, 1],\n",
    "            'deserters': [4, 24, 31, 2, 3, 4, 24, 31, 2, 3, 2, 3],\n",
    "            'origin': ['Arizona', 'California', 'Texas', 'Florida', 'Maine', 'Iowa', 'Alaska', 'Washington', 'Oregon', 'Wyoming', 'Louisana', 'Georgia']}"
   ]
  },
  {
   "cell_type": "code",
   "execution_count": null,
   "id": "8a720e48",
   "metadata": {},
   "outputs": [],
   "source": []
  },
  {
   "cell_type": "markdown",
   "id": "d540de76",
   "metadata": {},
   "source": [
    "# 문제2. origin 열을 인덱스로 설정하기"
   ]
  },
  {
   "cell_type": "code",
   "execution_count": null,
   "id": "fa04b31b",
   "metadata": {},
   "outputs": [],
   "source": []
  },
  {
   "cell_type": "markdown",
   "id": "dcb411e2",
   "metadata": {},
   "source": [
    "# 문제3. veterans 열을 출력하기"
   ]
  },
  {
   "cell_type": "code",
   "execution_count": null,
   "id": "793c3ac9",
   "metadata": {},
   "outputs": [],
   "source": []
  },
  {
   "cell_type": "markdown",
   "id": "adeae15a",
   "metadata": {},
   "source": [
    "# 문제4. veterans열과 deaths 열을 출력하기"
   ]
  },
  {
   "cell_type": "code",
   "execution_count": null,
   "id": "bbf4cb8e",
   "metadata": {},
   "outputs": [],
   "source": []
  },
  {
   "cell_type": "markdown",
   "id": "ef6d55e5",
   "metadata": {},
   "source": [
    "# 문제5. 데이터의 모든 열 이름 확인하기"
   ]
  },
  {
   "cell_type": "code",
   "execution_count": null,
   "id": "0efcc3ee",
   "metadata": {},
   "outputs": [],
   "source": []
  },
  {
   "cell_type": "markdown",
   "id": "dde72f15",
   "metadata": {},
   "source": [
    "# 문제6. Maine, Alaska 행의 deaths, size, deserters 열 출력하기"
   ]
  },
  {
   "cell_type": "code",
   "execution_count": null,
   "id": "e512ea70",
   "metadata": {},
   "outputs": [],
   "source": []
  },
  {
   "cell_type": "markdown",
   "id": "05029a46",
   "metadata": {},
   "source": [
    "# 문제7. deaths가 50보다 큰 데이터 출력하기"
   ]
  },
  {
   "cell_type": "code",
   "execution_count": null,
   "id": "9806e20f",
   "metadata": {},
   "outputs": [],
   "source": []
  },
  {
   "cell_type": "markdown",
   "id": "a8f20f7e",
   "metadata": {},
   "source": [
    "# 문제8. deaths가 500보다 크거나 50보다 작은 데이터 출력하기"
   ]
  },
  {
   "cell_type": "code",
   "execution_count": null,
   "id": "c85b7f34",
   "metadata": {},
   "outputs": [],
   "source": []
  },
  {
   "cell_type": "markdown",
   "id": "81a664ad",
   "metadata": {},
   "source": [
    "# 문제9. regiment 가 Dragoons가 아닌 데이터 출력하기"
   ]
  },
  {
   "cell_type": "code",
   "execution_count": null,
   "id": "7925c56a",
   "metadata": {},
   "outputs": [],
   "source": []
  }
 ],
 "metadata": {
  "kernelspec": {
   "display_name": "Python 3 (ipykernel)",
   "language": "python",
   "name": "python3"
  },
  "language_info": {
   "codemirror_mode": {
    "name": "ipython",
    "version": 3
   },
   "file_extension": ".py",
   "mimetype": "text/x-python",
   "name": "python",
   "nbconvert_exporter": "python",
   "pygments_lexer": "ipython3",
   "version": "3.9.7"
  }
 },
 "nbformat": 4,
 "nbformat_minor": 5
}
